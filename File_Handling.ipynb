{
  "nbformat": 4,
  "nbformat_minor": 0,
  "metadata": {
    "colab": {
      "provenance": []
    },
    "kernelspec": {
      "name": "python3",
      "display_name": "Python 3"
    },
    "language_info": {
      "name": "python"
    }
  },
  "cells": [
    {
      "cell_type": "markdown",
      "source": [],
      "metadata": {
        "id": "adVRt9QvpW5C"
      }
    },
    {
      "cell_type": "markdown",
      "source": [],
      "metadata": {
        "id": "OCcdEC5SJnfj"
      }
    },
    {
      "cell_type": "markdown",
      "source": [
        "File Handling assignment\n",
        "\n",
        "\n",
        "1)What is the difference between interpreted and compiled languages?\n",
        "  - The key difference between interpreted and compiled programming languages lies in how they execute: interpreted languages execute instructions directly from the source code, while compiled languages first translate the entire code into machine code before execution. This process difference impacts execution speed, error handling, and portability.\n",
        "\n",
        "2)What is exception handling in Python?\n",
        "  \n",
        "  - In Python, exception handling is the process of responding to errors that occur during program execution. It allows programs to continue running smoothly and avoid crashing.\n",
        "\n",
        "\n",
        "3)What is the purpose of the finally block in exception handling?\n",
        "  - The purpose of the finally block in exception handling is to ensure that certain code, often cleanup tasks like closing files or releasing resources, is executed regardless of whether an exception was thrown or caught in the try block. This guarantees that crucial operations, such as releasing resources, always occur, even in the presence of exceptions, preventing potential resource leaks and ensuring program stability.\n",
        "\n",
        "\n",
        "4)What is logging in Python?\n",
        "  - In Python, logging is a powerful mechanism to track events, debug issues, and monitor the health of your applications. It's like a program's diary, recording important information about its execution. Logging is crucial for debugging, troubleshooting, and understanding how your code behaves in different situations.   \n",
        "\n",
        "\n",
        "5)What is the significance of the __del__ method in Python?\n",
        "  - In Python, the __del__() method, also known as the destructor, is a special method automatically called by the garbage collector when an object is about to be destroyed. It's used for performing cleanup tasks, such as closing files or releasing external resources, before the object is reclaimed by memory management.\n",
        "\n",
        "\n",
        "6)What is the difference between import and from ... import in Python?\n",
        "  - The difference between import and from import in Python is: import imports an entire code library. from import imports a specific member or members of the library.  \n",
        "\n",
        "\n",
        "7)How can you handle multiple exceptions in Python?\n",
        "  - In Python, you can handle multiple exceptions using a try-except block with multiple except clauses or by using a single except clause with a tuple of exception types. When using multiple except clauses, each clause handles a specific exception type. If a single except clause with a tuple is used, it handles all exceptions listed in the tuple in the same way.    \n",
        "\n",
        "\n",
        "8) What is the purpose of the with statement when handling files in Python?\n",
        "  - The purpose of the with statement in Python when handling files is to ensure that a file is automatically closed after the code within the with block is executed, regardless of whether an error occurs. This simplifies file handling by automatically managing resource allocation and cleanup, making the code cleaner and more readable.\n",
        "\n",
        "9)What is the difference between multithreading and multiprocessing?\n",
        "  - Multithreading and multiprocessing are both techniques to execute multiple tasks concurrently, but they differ in how they achieve parallelism. Multithreading allows multiple threads to share the same memory space within a single process, while multiprocessing involves multiple processes with their own memory spaces.   \n",
        "\n",
        "\n",
        "10)What are the advantages of using logging in a program?\n",
        "  - Logging offers significant advantages in program development and maintenance, primarily by facilitating debugging, troubleshooting, and monitoring. It helps track program behavior, identify errors, and improve overall system transparency.\n",
        "\n",
        "\n",
        "11)What is memory management in Python?\n",
        "  - Memory management in Python involves a private heap containing all Python objects and data structures. The management of this private heap is ensured internally by the Python memory manager.  \n",
        "\n",
        "\n",
        "12)What are the basic steps involved in exception handling in Python?\n",
        "  - In Python, exceptions are caught and handled using the 'try' and 'except' block. 'try' contains the code segment which is susceptible to error, while 'except' is where the program should jump in case an exception occurs. You can use multiple 'except' blocks for handling different types of exceptions  \n",
        "\n",
        "\n",
        "13)Why is memory management important in Python?\n",
        "  - Memory management is crucial in Python because it directly impacts program performance, resource usage, and potential issues like memory leaks, ensuring efficient and stable application execution.  \n",
        "\n",
        "\n",
        "14)What is the role of try and except in exception handling?\n",
        "   - In exception handling, the try and except blocks work together to gracefully manage errors that might occur during code execution. The try block contains the code that could potentially raise an exception, while the except block provides the code to handle the specific exception that was raised in the try block.   \n",
        "\n",
        "\n",
        "15)How does Python's garbage collection system work?\n",
        "  - Python uses a hybrid approach for garbage collection: reference counting and generational garbage collection. It primarily relies on reference counting to identify and deallocate objects that are no longer in use. For handling cyclic references (where objects refer to each other in a loop), Python employs a generational garbage collector, which uses a mark-and-sweep algorithm to identify and reclaim memory.   \n",
        "\n",
        "\n",
        "16)What is the purpose of the else block in exception handling?\n",
        "   - The else block in exception handling, when used with try...except, executes the code within it only if no exceptions are raised within the try block. It provides a way to execute specific code when the try block's operations are successful, without the need for an exception.   \n",
        "\n",
        "\n",
        "17)What are the common logging levels in Python?\n",
        "  - There are six levels for logging in Python; each level is associated with an integer that indicates the log severity: NOTSET=0, DEBUG=10, INFO=20, WARN=30, ERROR=40, and CRITICAL=50.   \n",
        "\n",
        "18)What is the difference between os.fork() and multiprocessing in Python?\n",
        "   - The only real difference between the os.fork and multiprocessing.Process is portability and library overhead, since os.fork is not supported in windows, and the multiprocessing framework is included to make multiprocessing.Process work. This is because os.fork is called by multiprocessing.Process, as this answer backs up.   \n",
        "  \n",
        "\n",
        "\n",
        "19)What is the importance of closing a file in Python?\n",
        "   - Closing files in Python is an essential practice that helps maintain data integrity, prevent resource leaks, and ensure the reliability of your applications. By mastering file handling techniques, you can write more robust and efficient Python code that effectively manages file resources.\n",
        "\n",
        "\n",
        "20)What is the difference between file.read() and file.readline() in Python?\n",
        "   - In Python, file.read() reads the entire content of a file into a single string, while file.readline() reads and returns only the first line of a file, also as a string. If no more lines are available, readline() returns an empty string.\n",
        "\n",
        "\n",
        "21)What is the logging module in Python used for?\n",
        "  - The logging module in Python is used for tracking events that occur during program execution, helping with debugging, troubleshooting, and monitoring application behavior. It allows developers to capture information about errors, warnings, and other events, providing a detailed record of the program's activity.\n",
        "\n",
        "22)What is the os module in Python used for in file handling?\n",
        "   - Python has a built-in os module with methods for interacting with the operating system, like creating files and directories, management of files and directories, input, output, environment variables, process management, etc.\n",
        "\n",
        "\n",
        "23)What are the challenges associated with memory management in Python?\n",
        "  - Python's memory management, while largely automatic, faces challenges like memory leaks due to circular references, memory bloat from inefficient data structures, and memory fragmentation. These issues can lead to performance degradation and even crashes, especially when dealing with large datasets or complex applications.\n",
        "\n",
        "\n",
        "24) How do you raise an exception manually in Python?\n",
        "  - To manually raise an exception in Python, you can use the raise keyword. This keyword allows you to throw an exception with a custom error message. In our example, we define a function called divide() that takes two numbers as arguments and divides them.  \n",
        "\n",
        "\n",
        "25)Why is it important to use multithreading in certain applications?\n",
        "  - Multithreading is important in applications where it's crucial to improve performance, responsiveness, and resource utilization, especially when dealing with concurrent tasks or I/O operations. It allows applications to handle multiple tasks simultaneously without blocking other threads, leading to better user experience and overall efficiency.     \n",
        "    \n",
        "     \n",
        "\n",
        "\n"
      ],
      "metadata": {
        "id": "sBtKnO15pxTq"
      }
    },
    {
      "cell_type": "code",
      "execution_count": null,
      "metadata": {
        "id": "7jHShJEfpNIo"
      },
      "outputs": [],
      "source": [
        "#How can you open a file for writing in Python and write a string to it\n",
        "file = open(\"file.text\", \"w\")\n",
        "file.write(\"This is my first line\")\n",
        "file.close()"
      ]
    },
    {
      "cell_type": "code",
      "source": [
        "#Write a Python program to read the contents of a file and print each line\n",
        "file = open(\"file.txt\", \"w\")\n",
        "file.write(\"This is my first line\\n\")\n",
        "file.write(\"This is my second line\\n\")\n",
        "file.write(\"This is my third line\\n\")\n",
        "file.write(\"This is my fourth line\\n\")\n",
        "file.close()\n",
        "file = open(\"file.txt\", 'r')\n",
        "file.read()\n",
        "print(file.read())"
      ],
      "metadata": {
        "colab": {
          "base_uri": "https://localhost:8080/"
        },
        "id": "9ZcRYO1VBbwx",
        "outputId": "aff7262c-8b7a-420e-a07f-1d97471646b5"
      },
      "execution_count": null,
      "outputs": [
        {
          "output_type": "stream",
          "name": "stdout",
          "text": [
            "\n"
          ]
        }
      ]
    },
    {
      "cell_type": "code",
      "source": [
        "#How would you handle a case where the file doesn't exist while trying to open it for reading\n",
        "try:\n",
        "    with open('non_existent_file.txt', 'r') as file:\n",
        "        content = file.read()\n",
        "except FileNotFoundError:\n",
        "    print(\"The file does not exist.\")"
      ],
      "metadata": {
        "id": "preWRvYqBb9m",
        "colab": {
          "base_uri": "https://localhost:8080/"
        },
        "outputId": "b0765cc8-47e8-4828-f9f4-fa998a9e5c7b"
      },
      "execution_count": null,
      "outputs": [
        {
          "output_type": "stream",
          "name": "stdout",
          "text": [
            "The file does not exist.\n"
          ]
        }
      ]
    },
    {
      "cell_type": "code",
      "source": [
        "#Write a Python script that reads from one file and writes its content to another file\n",
        "def copy_file_contents(source_file, destination_file):\n",
        "  \"\"\"\n",
        "  Reads the content of one file and writes it to another.\n",
        "\n",
        "  Args:\n",
        "    source_file: The path to the file being read from.\n",
        "    destination_file: The path to the file being written to.\n",
        "  \"\"\"\n",
        "  try:\n",
        "    with open(source_file, 'r') as infile, open(destination_file, 'w') as outfile:\n",
        "      outfile.write(infile.read())\n",
        "    print(f\"Successfully copied content from '{source_file}' to '{destination_file}'\")\n",
        "  except FileNotFoundError:\n",
        "    print(f\"Error: One or both files not found.\")\n",
        "  except Exception as e:\n",
        "    print(f\"An error occurred: {e}\")\n",
        "\n",
        "source_file_path = \"walwa_data.txt\" # Replace with the actual path to your source file\n",
        "destination_file_path = \"walwa_data_copy.txt\" # Replace with the path to your destination file\n",
        "\n",
        "copy_file_contents(source_file_path, destination_file_path)"
      ],
      "metadata": {
        "colab": {
          "base_uri": "https://localhost:8080/"
        },
        "id": "5NZL0nFtEIdB",
        "outputId": "f3b74644-fe06-473e-d5f8-c1fef7e31e13"
      },
      "execution_count": null,
      "outputs": [
        {
          "output_type": "stream",
          "name": "stdout",
          "text": [
            "Error: One or both files not found.\n"
          ]
        }
      ]
    },
    {
      "cell_type": "code",
      "source": [
        "#How would you catch and handle division by zero error in Python\n",
        "try:\n",
        "    10/0\n",
        "except Exception as e:\n",
        "    print(\"There is some error\", e)"
      ],
      "metadata": {
        "colab": {
          "base_uri": "https://localhost:8080/"
        },
        "id": "eBntV9Q9EIvb",
        "outputId": "37910c6d-9b22-42d6-b402-02d19e036f20"
      },
      "execution_count": null,
      "outputs": [
        {
          "output_type": "stream",
          "name": "stdout",
          "text": [
            "There is some error division by zero\n"
          ]
        }
      ]
    },
    {
      "cell_type": "code",
      "source": [
        "#Write a Python program that logs an error message to a log file when a division by zero exception occurs\n",
        "import logging\n",
        "logging.basicConfig(filename = \"program1.log\", level = logging.DEBUG)\n",
        "try:\n",
        "    10/0\n",
        "except ZeroDivisionError as e:\n",
        "    logging.error(f\"My file was not found {e}\")"
      ],
      "metadata": {
        "id": "8wpYWCnxGObj",
        "colab": {
          "base_uri": "https://localhost:8080/"
        },
        "outputId": "10261664-b3dc-41f4-f17d-98155bfc6008"
      },
      "execution_count": null,
      "outputs": [
        {
          "output_type": "stream",
          "name": "stderr",
          "text": [
            "ERROR:root:My file was not found division by zero\n"
          ]
        }
      ]
    },
    {
      "cell_type": "code",
      "source": [
        "# How do you log information at different levels (INFO, ERROR, WARNING) in Python using the logging module\n",
        "import logging\n",
        "...\n",
        "logging.debug('This is a debug message')\n",
        "logging.info('This is an info message')\n",
        "logging.warning('This is a warning message')\n",
        "logging.error('This is an error message')\n",
        "logging.critical('This is a critical message')"
      ],
      "metadata": {
        "id": "p4gXh6jjGOiE",
        "colab": {
          "base_uri": "https://localhost:8080/"
        },
        "outputId": "31f11beb-7871-4b06-f07b-2e5452b602fb"
      },
      "execution_count": null,
      "outputs": [
        {
          "output_type": "stream",
          "name": "stderr",
          "text": [
            "WARNING:root:This is a warning message\n",
            "ERROR:root:This is an error message\n",
            "CRITICAL:root:This is a critical message\n"
          ]
        }
      ]
    },
    {
      "cell_type": "code",
      "source": [
        "#Write a program to handle a file opening error using exception handling\n",
        "try:\n",
        "    f = open(\"example.txt\", \"r\")\n",
        "    f.read()\n",
        "except FileNotFoundError as e:\n",
        "    print(\"The following file was not created, please re run the code\", e)"
      ],
      "metadata": {
        "id": "JDKPlwyuGOsg",
        "colab": {
          "base_uri": "https://localhost:8080/"
        },
        "outputId": "e18d81b4-5139-4486-f90b-a0048a7b6adc"
      },
      "execution_count": null,
      "outputs": [
        {
          "output_type": "stream",
          "name": "stdout",
          "text": [
            "The following file was not created, please re run the code [Errno 2] No such file or directory: 'example.txt'\n"
          ]
        }
      ]
    },
    {
      "cell_type": "code",
      "source": [
        "#How can you read a file line by line and store its content in a list in Python\n",
        "f = open(\"file.txt\", 'r')\n",
        "print(f.readlines())  #all the lines will be the element of a list\n",
        "f.close()\n"
      ],
      "metadata": {
        "id": "0FsxFGt1GO4O",
        "colab": {
          "base_uri": "https://localhost:8080/"
        },
        "outputId": "a2660803-65ff-4c29-d46d-bdc119f6c547"
      },
      "execution_count": null,
      "outputs": [
        {
          "output_type": "stream",
          "name": "stdout",
          "text": [
            "['This is my first line\\n', 'This is my second line\\n', 'This is my third line\\n', 'This is my fourth line\\n']\n"
          ]
        }
      ]
    },
    {
      "cell_type": "code",
      "source": [
        "#How can you append data to an existing file in Python\n",
        "file = open(\"file.txt\", \"w\")\n",
        "file.write(\"This is my first line\\n\")\n",
        "file.write(\"This is my second line\\n\")\n",
        "file.write(\"This is my third line\\n\")\n",
        "file.write(\"This is my fourth line\\n\")\n",
        "file.close()\n",
        "file = open(\"file.txt\", \"a\") #append the new line\n",
        "file.write(\"This is fifth line\")\n",
        "file.close()"
      ],
      "metadata": {
        "id": "KtiQGYOiGO7k"
      },
      "execution_count": null,
      "outputs": []
    },
    {
      "cell_type": "code",
      "source": [
        "#Write a Python program that uses a try-except block to handle an error when attempting to access a dictionary key that doesn't exist\n",
        "try:\n",
        "    d = {\"name\": \"Ajay\", \"class\": \"ds\"}\n",
        "    d[\"age\"]\n",
        "except KeyError as e:\n",
        "    print(\"The key is not found\", e)"
      ],
      "metadata": {
        "id": "hL1tHhHBGPHs",
        "colab": {
          "base_uri": "https://localhost:8080/"
        },
        "outputId": "a772f4de-bb67-4e32-f3dc-892ff05bc70f"
      },
      "execution_count": null,
      "outputs": [
        {
          "output_type": "stream",
          "name": "stdout",
          "text": [
            "The key is not found 'age'\n"
          ]
        }
      ]
    },
    {
      "cell_type": "code",
      "source": [
        "#Write a program that demonstrates using multiple except blocks to handle different types of exceptions\n",
        "try:\n",
        "    10/0\n",
        "except ZeroDivisionError as e:\n",
        "    print(\"The divison is not possible due the error>>\", e)\n",
        "except TypeError as e:\n",
        "    print(\"This is value error>>\", e)"
      ],
      "metadata": {
        "id": "jfPtJRJ8GPP8",
        "colab": {
          "base_uri": "https://localhost:8080/"
        },
        "outputId": "cea749f7-17e7-46c8-fc38-1ab60f3758c8"
      },
      "execution_count": null,
      "outputs": [
        {
          "output_type": "stream",
          "name": "stdout",
          "text": [
            "The divison is not possible due the error>> division by zero\n"
          ]
        }
      ]
    },
    {
      "cell_type": "code",
      "source": [
        "#How would you check if a file exists before attempting to read it in Python\n",
        "file = open(\"file.text\", \"w\")\n",
        "file.write(\"This is me\")\n",
        "file.close()\n"
      ],
      "metadata": {
        "id": "CWqYxA4tGPZv"
      },
      "execution_count": 1,
      "outputs": []
    },
    {
      "cell_type": "code",
      "source": [
        "#Write a program that uses the logging module to log both informational and error messages\n",
        "import logging\n",
        "logging.basicConfig(filename = \"test_new.log\", level = logging.DEBUG, format = '%(asctime)s %(message)s')\n",
        "logging.debug(\"This msg is for debugging\")\n",
        "logging.info(\"This is my info msg\")\n",
        "logging.warning(\"This is my warning msg\")\n",
        "logging.shutdown()\n"
      ],
      "metadata": {
        "id": "Mu78u28qL_MZ",
        "colab": {
          "base_uri": "https://localhost:8080/"
        },
        "outputId": "9239945a-cec4-429c-b5bf-87f320380671"
      },
      "execution_count": null,
      "outputs": [
        {
          "output_type": "stream",
          "name": "stderr",
          "text": [
            "WARNING:root:This is my warning msg\n"
          ]
        }
      ]
    },
    {
      "cell_type": "code",
      "source": [
        "#Write a Python program that prints the content of a file and handles the case when the file is empty\n",
        "def print_file_content(filepath):\n",
        "    \"\"\"Prints the content of a file, handling empty files.\"\"\"\n",
        "    try:\n",
        "        with open(filepath, 'r') as file:\n",
        "            content = file.read()\n",
        "            if content:\n",
        "                print(content)\n",
        "            else:\n",
        "                print(\"The file is empty.\")\n",
        "    except FileNotFoundError:\n",
        "        print(f\"Error: File not found at {filepath}\")\n",
        "\n",
        "# Example usage:\n",
        "print_file_content(\"example.txt\") # Replace \"example.txt\" with your file's path"
      ],
      "metadata": {
        "colab": {
          "base_uri": "https://localhost:8080/"
        },
        "id": "-YKypqHzL_Ve",
        "outputId": "33b3bdc3-56ea-4123-b162-6b4c00d6348c"
      },
      "execution_count": null,
      "outputs": [
        {
          "output_type": "stream",
          "name": "stdout",
          "text": [
            "Error: File not found at example.txt\n"
          ]
        }
      ]
    },
    {
      "cell_type": "code",
      "source": [
        "#Demonstrate how to use memory profiling to check the memory usage of a small program\n"
      ],
      "metadata": {
        "id": "vcDLZigBL_c_"
      },
      "execution_count": null,
      "outputs": []
    },
    {
      "cell_type": "code",
      "source": [
        "#Write a Python program to create and write a list of numbers to a file, one number per line\n",
        "names = [1,2,3,4,5]\n",
        "\n",
        "# open file in write mode\n",
        "with open('file.text1', 'w') as file.text1:\n",
        "    for item in names:\n",
        "        # write each item on a new line\n",
        "        file.text1.write(\"%s\\n\" % item)\n",
        "    print('Done')"
      ],
      "metadata": {
        "colab": {
          "base_uri": "https://localhost:8080/"
        },
        "collapsed": true,
        "id": "Ueb_QcARL_jJ",
        "outputId": "379f2349-f67b-432c-ddcc-553e832049d8"
      },
      "execution_count": null,
      "outputs": [
        {
          "output_type": "stream",
          "name": "stdout",
          "text": [
            "Done\n"
          ]
        }
      ]
    },
    {
      "cell_type": "code",
      "source": [
        "#Write a program that handles both IndexError and KeyError using a try-except block\n",
        "try:\n",
        "    l = [1, 2, 3, 4]\n",
        "    l[4]\n",
        "except IndexError as e:\n",
        "    print(\"The index not found\", e)\n"
      ],
      "metadata": {
        "id": "vaCI_MrwL_ts",
        "colab": {
          "base_uri": "https://localhost:8080/"
        },
        "outputId": "fb8356f5-c32a-4dff-d3b0-40d8fd9e854e"
      },
      "execution_count": null,
      "outputs": [
        {
          "output_type": "stream",
          "name": "stdout",
          "text": [
            "The index not found list index out of range\n"
          ]
        }
      ]
    },
    {
      "cell_type": "code",
      "source": [
        "#key error\n",
        "try:\n",
        "    d = {\"name\": \"Ajay\", \"class\": \"ds\"}\n",
        "    d[\"age\"]\n",
        "except KeyError as e:\n",
        "    print(\"The key is not found\", e)"
      ],
      "metadata": {
        "id": "fmOWW_vTEI73",
        "colab": {
          "base_uri": "https://localhost:8080/"
        },
        "outputId": "ac8bd657-e1b3-4b5b-85cb-30fa9ccfa8eb"
      },
      "execution_count": null,
      "outputs": [
        {
          "output_type": "stream",
          "name": "stdout",
          "text": [
            "The key is not found 'age'\n"
          ]
        }
      ]
    },
    {
      "cell_type": "code",
      "source": [
        "#How would you implement a basic logging setup that logs to a file with rotation after 1MB\n",
        "from logging.handlers import RotatingFileHandler\n",
        "\n",
        "def rotator(source, dest):\n",
        "    with open(source, 'rt') as f_in:\n",
        "        with gzip.open(dest, 'wt') as f_out:\n",
        "            f_out.writelines(f_in.readlines())\n",
        "    os.remove(source)\n",
        "\n",
        "def namer(name):\n",
        "    return str.join('.', name.split('.')[0:2]) + \".\" + datetime.datetime.now().strftime(\"%Y-%m-%d\") + \".\" + name.split('.')[2] + \".gz\"\n",
        "\n",
        "logger = logging.getLogger(\"QueueCommunicator\")\n",
        "logger.setLevel(logging.INFO)\n",
        "handler = RotatingFileHandler(os.path.join(settings.STORAGE_DIR, 'listener.log'), backupCount=5, maxBytes=120000000)\n",
        "handler.setFormatter(logging.Formatter(fmt='%(asctime)s,%(msecs)d %(process)d %(threadName)s %(name)s %(levelname)s %(message)s',\n",
        "                                        datefmt='%Y-%m-%d %H:%M:%S'))\n",
        "handler.rotator = rotator\n",
        "handler.namer = namer\n",
        "logger.addHandler(handler)\n"
      ],
      "metadata": {
        "id": "JuxRQSz8P62b",
        "colab": {
          "base_uri": "https://localhost:8080/",
          "height": 211
        },
        "outputId": "a38debe8-8b0c-483e-d7d0-e25cdba425e7"
      },
      "execution_count": null,
      "outputs": [
        {
          "output_type": "error",
          "ename": "NameError",
          "evalue": "name 'os' is not defined",
          "traceback": [
            "\u001b[0;31m---------------------------------------------------------------------------\u001b[0m",
            "\u001b[0;31mNameError\u001b[0m                                 Traceback (most recent call last)",
            "\u001b[0;32m<ipython-input-6-eedd198f4cae>\u001b[0m in \u001b[0;36m<cell line: 0>\u001b[0;34m()\u001b[0m\n\u001b[1;32m     13\u001b[0m \u001b[0mlogger\u001b[0m \u001b[0;34m=\u001b[0m \u001b[0mlogging\u001b[0m\u001b[0;34m.\u001b[0m\u001b[0mgetLogger\u001b[0m\u001b[0;34m(\u001b[0m\u001b[0;34m\"QueueCommunicator\"\u001b[0m\u001b[0;34m)\u001b[0m\u001b[0;34m\u001b[0m\u001b[0;34m\u001b[0m\u001b[0m\n\u001b[1;32m     14\u001b[0m \u001b[0mlogger\u001b[0m\u001b[0;34m.\u001b[0m\u001b[0msetLevel\u001b[0m\u001b[0;34m(\u001b[0m\u001b[0mlogging\u001b[0m\u001b[0;34m.\u001b[0m\u001b[0mINFO\u001b[0m\u001b[0;34m)\u001b[0m\u001b[0;34m\u001b[0m\u001b[0;34m\u001b[0m\u001b[0m\n\u001b[0;32m---> 15\u001b[0;31m \u001b[0mhandler\u001b[0m \u001b[0;34m=\u001b[0m \u001b[0mRotatingFileHandler\u001b[0m\u001b[0;34m(\u001b[0m\u001b[0mos\u001b[0m\u001b[0;34m.\u001b[0m\u001b[0mpath\u001b[0m\u001b[0;34m.\u001b[0m\u001b[0mjoin\u001b[0m\u001b[0;34m(\u001b[0m\u001b[0msettings\u001b[0m\u001b[0;34m.\u001b[0m\u001b[0mSTORAGE_DIR\u001b[0m\u001b[0;34m,\u001b[0m \u001b[0;34m'listener.log'\u001b[0m\u001b[0;34m)\u001b[0m\u001b[0;34m,\u001b[0m \u001b[0mbackupCount\u001b[0m\u001b[0;34m=\u001b[0m\u001b[0;36m5\u001b[0m\u001b[0;34m,\u001b[0m \u001b[0mmaxBytes\u001b[0m\u001b[0;34m=\u001b[0m\u001b[0;36m120000000\u001b[0m\u001b[0;34m)\u001b[0m\u001b[0;34m\u001b[0m\u001b[0;34m\u001b[0m\u001b[0m\n\u001b[0m\u001b[1;32m     16\u001b[0m handler.setFormatter(logging.Formatter(fmt='%(asctime)s,%(msecs)d %(process)d %(threadName)s %(name)s %(levelname)s %(message)s',\n\u001b[1;32m     17\u001b[0m                                         datefmt='%Y-%m-%d %H:%M:%S'))\n",
            "\u001b[0;31mNameError\u001b[0m: name 'os' is not defined"
          ]
        }
      ]
    },
    {
      "cell_type": "code",
      "source": [
        "#How would you open a file and read its contents using a context manager in Python\n",
        "\n",
        "\n",
        "def open_read_only(filename):\n",
        "  \"\"\"Open a file in read-only mode.\n",
        "\n",
        "  Args:\n",
        "    filename (str): The location of the file to read\n",
        "\n",
        "  Yields:\n",
        "    file object\n",
        "  \"\"\"\n",
        "  read_only_file = open(filename, mode='r')\n",
        "  ____ ____\n",
        "\n",
        "  ____.____()\n",
        "\n",
        "with open_read_only('my_file.txt') as my_file:\n",
        "  print(my_file.read())"
      ],
      "metadata": {
        "id": "2O36WGKJP7Fe",
        "colab": {
          "base_uri": "https://localhost:8080/",
          "height": 106
        },
        "outputId": "af9def85-dae3-4cab-baf8-ed5d68d597b4"
      },
      "execution_count": null,
      "outputs": [
        {
          "output_type": "error",
          "ename": "SyntaxError",
          "evalue": "invalid syntax (<ipython-input-5-2d482d0b8ee4>, line 14)",
          "traceback": [
            "\u001b[0;36m  File \u001b[0;32m\"<ipython-input-5-2d482d0b8ee4>\"\u001b[0;36m, line \u001b[0;32m14\u001b[0m\n\u001b[0;31m    ____ ____\u001b[0m\n\u001b[0m         ^\u001b[0m\n\u001b[0;31mSyntaxError\u001b[0m\u001b[0;31m:\u001b[0m invalid syntax\n"
          ]
        }
      ]
    },
    {
      "cell_type": "code",
      "source": [
        "#Write a Python program that reads a file and prints the number of occurrences of a specific word\n"
      ],
      "metadata": {
        "id": "o9mG3O1TP7Mc"
      },
      "execution_count": null,
      "outputs": []
    },
    {
      "cell_type": "code",
      "source": [
        " #How can you check if a file is empty before attempting to read its contents with open('example.txt', 'r') as file:\n",
        "\n",
        "    with open('example.txt', 'r') as file:\n",
        "    content = file.read()\n",
        "    print(content)\n",
        "    with open('example.txt', 'r') as file:\n",
        "      lines = file.readlines():\n",
        "    if not lines:\n",
        "        print('The file is empty.')\n",
        "    else:\n",
        "        print('The file is not empty.')"
      ],
      "metadata": {
        "colab": {
          "base_uri": "https://localhost:8080/",
          "height": 106
        },
        "id": "yZpi5tBsP7P2",
        "outputId": "49ade0b0-c3d2-4dc5-8b34-4b23d7d0ca3b"
      },
      "execution_count": null,
      "outputs": [
        {
          "output_type": "error",
          "ename": "IndentationError",
          "evalue": "unexpected indent (<ipython-input-33-f0600cf9a28f>, line 3)",
          "traceback": [
            "\u001b[0;36m  File \u001b[0;32m\"<ipython-input-33-f0600cf9a28f>\"\u001b[0;36m, line \u001b[0;32m3\u001b[0m\n\u001b[0;31m    with open('example.txt', 'r') as file:\u001b[0m\n\u001b[0m    ^\u001b[0m\n\u001b[0;31mIndentationError\u001b[0m\u001b[0;31m:\u001b[0m unexpected indent\n"
          ]
        }
      ]
    },
    {
      "cell_type": "code",
      "source": [
        "#Write a Python program that writes to a log file when an error occurs during file handling.\n",
        "logf = open(\"download.log\", \"w\")\n",
        "for download in download_list:\n",
        "    try:\n",
        "        # code to process download here\n",
        "    except Exception as e:     # most generic exception you can catch\n",
        "        logf.write(\"Failed to download {0}: {1}\\n\".format(str(download), str(e)))\n",
        "        # optional: delete local version of failed download\n",
        "    finally:\n",
        "        # optional clean up code\n",
        "        pass"
      ],
      "metadata": {
        "id": "WnJUPrhaP7dg",
        "colab": {
          "base_uri": "https://localhost:8080/",
          "height": 106
        },
        "outputId": "16a42951-7b87-43be-c454-f3cfe4ce6e2d"
      },
      "execution_count": null,
      "outputs": [
        {
          "output_type": "error",
          "ename": "IndentationError",
          "evalue": "expected an indented block after 'try' statement on line 4 (<ipython-input-3-f8b10d163619>, line 6)",
          "traceback": [
            "\u001b[0;36m  File \u001b[0;32m\"<ipython-input-3-f8b10d163619>\"\u001b[0;36m, line \u001b[0;32m6\u001b[0m\n\u001b[0;31m    except Exception as e:     # most generic exception you can catch\u001b[0m\n\u001b[0m    ^\u001b[0m\n\u001b[0;31mIndentationError\u001b[0m\u001b[0;31m:\u001b[0m expected an indented block after 'try' statement on line 4\n"
          ]
        }
      ]
    },
    {
      "cell_type": "code",
      "source": [],
      "metadata": {
        "id": "otaAg8QTP7lu"
      },
      "execution_count": null,
      "outputs": []
    }
  ]
}